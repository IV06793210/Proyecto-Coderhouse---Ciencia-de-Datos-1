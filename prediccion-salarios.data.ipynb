{
 "cells": [
  {
   "cell_type": "code",
   "execution_count": 1,
   "id": "38debb43",
   "metadata": {
    "execution": {
     "iopub.execute_input": "2024-03-13T15:16:56.743013Z",
     "iopub.status.busy": "2024-03-13T15:16:56.742385Z",
     "iopub.status.idle": "2024-03-13T15:16:59.625273Z",
     "shell.execute_reply": "2024-03-13T15:16:59.624178Z"
    },
    "papermill": {
     "duration": 2.894621,
     "end_time": "2024-03-13T15:16:59.627705",
     "exception": false,
     "start_time": "2024-03-13T15:16:56.733084",
     "status": "completed"
    },
    "tags": []
   },
   "outputs": [],
   "source": [
    "import numpy as np\n",
    "import pandas as pd\n",
    "import matplotlib.pyplot as plt\n",
    "import seaborn as sns\n",
    "from sklearn.linear_model import LinearRegression\n",
    "from sklearn.model_selection import train_test_split\n",
    "from sklearn.linear_model import LogisticRegression\n",
    "from sklearn.metrics import accuracy_score, classification_report, r2_score\n",
    "from sklearn.preprocessing import StandardScaler\n",
    "from sklearn.preprocessing import MinMaxScaler\n",
    "from sklearn.impute import KNNImputer\n",
    "from sklearn.pipeline import Pipeline\n",
    "from sklearn.preprocessing import LabelEncoder\n",
    "from sklearn.ensemble import RandomForestClassifier\n",
    "from sklearn import preprocessing\n",
    "\n",
    "\n",
    "import warnings\n",
    "warnings.filterwarnings('ignore')\n",
    "pd.set_option('display.max_columns', None)"
   ]
  },
  {
   "cell_type": "code",
   "execution_count": 2,
   "id": "3b7015ea",
   "metadata": {
    "execution": {
     "iopub.execute_input": "2024-03-13T15:16:59.643643Z",
     "iopub.status.busy": "2024-03-13T15:16:59.643134Z",
     "iopub.status.idle": "2024-03-13T15:16:59.710971Z",
     "shell.execute_reply": "2024-03-13T15:16:59.709618Z"
    },
    "papermill": {
     "duration": 0.078485,
     "end_time": "2024-03-13T15:16:59.713302",
     "exception": false,
     "start_time": "2024-03-13T15:16:59.634817",
     "status": "completed"
    },
    "tags": []
   },
   "outputs": [
    {
     "data": {
      "text/html": [
       "<div>\n",
       "<style scoped>\n",
       "    .dataframe tbody tr th:only-of-type {\n",
       "        vertical-align: middle;\n",
       "    }\n",
       "\n",
       "    .dataframe tbody tr th {\n",
       "        vertical-align: top;\n",
       "    }\n",
       "\n",
       "    .dataframe thead th {\n",
       "        text-align: right;\n",
       "    }\n",
       "</style>\n",
       "<table border=\"1\" class=\"dataframe\">\n",
       "  <thead>\n",
       "    <tr style=\"text-align: right;\">\n",
       "      <th></th>\n",
       "      <th>work_year</th>\n",
       "      <th>job_title</th>\n",
       "      <th>job_category</th>\n",
       "      <th>salary_currency</th>\n",
       "      <th>salary</th>\n",
       "      <th>salary_in_usd</th>\n",
       "      <th>employee_residence</th>\n",
       "      <th>experience_level</th>\n",
       "      <th>employment_type</th>\n",
       "      <th>work_setting</th>\n",
       "      <th>company_location</th>\n",
       "      <th>company_size</th>\n",
       "    </tr>\n",
       "  </thead>\n",
       "  <tbody>\n",
       "    <tr>\n",
       "      <th>0</th>\n",
       "      <td>2023</td>\n",
       "      <td>Data DevOps Engineer</td>\n",
       "      <td>Data Engineering</td>\n",
       "      <td>EUR</td>\n",
       "      <td>88000</td>\n",
       "      <td>95012</td>\n",
       "      <td>Germany</td>\n",
       "      <td>Mid-level</td>\n",
       "      <td>Full-time</td>\n",
       "      <td>Hybrid</td>\n",
       "      <td>Germany</td>\n",
       "      <td>L</td>\n",
       "    </tr>\n",
       "    <tr>\n",
       "      <th>1</th>\n",
       "      <td>2023</td>\n",
       "      <td>Data Architect</td>\n",
       "      <td>Data Architecture and Modeling</td>\n",
       "      <td>USD</td>\n",
       "      <td>186000</td>\n",
       "      <td>186000</td>\n",
       "      <td>United States</td>\n",
       "      <td>Senior</td>\n",
       "      <td>Full-time</td>\n",
       "      <td>In-person</td>\n",
       "      <td>United States</td>\n",
       "      <td>M</td>\n",
       "    </tr>\n",
       "    <tr>\n",
       "      <th>2</th>\n",
       "      <td>2023</td>\n",
       "      <td>Data Architect</td>\n",
       "      <td>Data Architecture and Modeling</td>\n",
       "      <td>USD</td>\n",
       "      <td>81800</td>\n",
       "      <td>81800</td>\n",
       "      <td>United States</td>\n",
       "      <td>Senior</td>\n",
       "      <td>Full-time</td>\n",
       "      <td>In-person</td>\n",
       "      <td>United States</td>\n",
       "      <td>M</td>\n",
       "    </tr>\n",
       "    <tr>\n",
       "      <th>3</th>\n",
       "      <td>2023</td>\n",
       "      <td>Data Scientist</td>\n",
       "      <td>Data Science and Research</td>\n",
       "      <td>USD</td>\n",
       "      <td>212000</td>\n",
       "      <td>212000</td>\n",
       "      <td>United States</td>\n",
       "      <td>Senior</td>\n",
       "      <td>Full-time</td>\n",
       "      <td>In-person</td>\n",
       "      <td>United States</td>\n",
       "      <td>M</td>\n",
       "    </tr>\n",
       "    <tr>\n",
       "      <th>4</th>\n",
       "      <td>2023</td>\n",
       "      <td>Data Scientist</td>\n",
       "      <td>Data Science and Research</td>\n",
       "      <td>USD</td>\n",
       "      <td>93300</td>\n",
       "      <td>93300</td>\n",
       "      <td>United States</td>\n",
       "      <td>Senior</td>\n",
       "      <td>Full-time</td>\n",
       "      <td>In-person</td>\n",
       "      <td>United States</td>\n",
       "      <td>M</td>\n",
       "    </tr>\n",
       "    <tr>\n",
       "      <th>...</th>\n",
       "      <td>...</td>\n",
       "      <td>...</td>\n",
       "      <td>...</td>\n",
       "      <td>...</td>\n",
       "      <td>...</td>\n",
       "      <td>...</td>\n",
       "      <td>...</td>\n",
       "      <td>...</td>\n",
       "      <td>...</td>\n",
       "      <td>...</td>\n",
       "      <td>...</td>\n",
       "      <td>...</td>\n",
       "    </tr>\n",
       "    <tr>\n",
       "      <th>9350</th>\n",
       "      <td>2021</td>\n",
       "      <td>Data Specialist</td>\n",
       "      <td>Data Management and Strategy</td>\n",
       "      <td>USD</td>\n",
       "      <td>165000</td>\n",
       "      <td>165000</td>\n",
       "      <td>United States</td>\n",
       "      <td>Senior</td>\n",
       "      <td>Full-time</td>\n",
       "      <td>Remote</td>\n",
       "      <td>United States</td>\n",
       "      <td>L</td>\n",
       "    </tr>\n",
       "    <tr>\n",
       "      <th>9351</th>\n",
       "      <td>2020</td>\n",
       "      <td>Data Scientist</td>\n",
       "      <td>Data Science and Research</td>\n",
       "      <td>USD</td>\n",
       "      <td>412000</td>\n",
       "      <td>412000</td>\n",
       "      <td>United States</td>\n",
       "      <td>Senior</td>\n",
       "      <td>Full-time</td>\n",
       "      <td>Remote</td>\n",
       "      <td>United States</td>\n",
       "      <td>L</td>\n",
       "    </tr>\n",
       "    <tr>\n",
       "      <th>9352</th>\n",
       "      <td>2021</td>\n",
       "      <td>Principal Data Scientist</td>\n",
       "      <td>Data Science and Research</td>\n",
       "      <td>USD</td>\n",
       "      <td>151000</td>\n",
       "      <td>151000</td>\n",
       "      <td>United States</td>\n",
       "      <td>Mid-level</td>\n",
       "      <td>Full-time</td>\n",
       "      <td>Remote</td>\n",
       "      <td>United States</td>\n",
       "      <td>L</td>\n",
       "    </tr>\n",
       "    <tr>\n",
       "      <th>9353</th>\n",
       "      <td>2020</td>\n",
       "      <td>Data Scientist</td>\n",
       "      <td>Data Science and Research</td>\n",
       "      <td>USD</td>\n",
       "      <td>105000</td>\n",
       "      <td>105000</td>\n",
       "      <td>United States</td>\n",
       "      <td>Entry-level</td>\n",
       "      <td>Full-time</td>\n",
       "      <td>Remote</td>\n",
       "      <td>United States</td>\n",
       "      <td>S</td>\n",
       "    </tr>\n",
       "    <tr>\n",
       "      <th>9354</th>\n",
       "      <td>2020</td>\n",
       "      <td>Business Data Analyst</td>\n",
       "      <td>Data Analysis</td>\n",
       "      <td>USD</td>\n",
       "      <td>100000</td>\n",
       "      <td>100000</td>\n",
       "      <td>United States</td>\n",
       "      <td>Entry-level</td>\n",
       "      <td>Contract</td>\n",
       "      <td>Remote</td>\n",
       "      <td>United States</td>\n",
       "      <td>L</td>\n",
       "    </tr>\n",
       "  </tbody>\n",
       "</table>\n",
       "<p>9355 rows × 12 columns</p>\n",
       "</div>"
      ],
      "text/plain": [
       "      work_year                 job_title                    job_category  \\\n",
       "0          2023      Data DevOps Engineer                Data Engineering   \n",
       "1          2023            Data Architect  Data Architecture and Modeling   \n",
       "2          2023            Data Architect  Data Architecture and Modeling   \n",
       "3          2023            Data Scientist       Data Science and Research   \n",
       "4          2023            Data Scientist       Data Science and Research   \n",
       "...         ...                       ...                             ...   \n",
       "9350       2021           Data Specialist    Data Management and Strategy   \n",
       "9351       2020            Data Scientist       Data Science and Research   \n",
       "9352       2021  Principal Data Scientist       Data Science and Research   \n",
       "9353       2020            Data Scientist       Data Science and Research   \n",
       "9354       2020     Business Data Analyst                   Data Analysis   \n",
       "\n",
       "     salary_currency  salary  salary_in_usd employee_residence  \\\n",
       "0                EUR   88000          95012            Germany   \n",
       "1                USD  186000         186000      United States   \n",
       "2                USD   81800          81800      United States   \n",
       "3                USD  212000         212000      United States   \n",
       "4                USD   93300          93300      United States   \n",
       "...              ...     ...            ...                ...   \n",
       "9350             USD  165000         165000      United States   \n",
       "9351             USD  412000         412000      United States   \n",
       "9352             USD  151000         151000      United States   \n",
       "9353             USD  105000         105000      United States   \n",
       "9354             USD  100000         100000      United States   \n",
       "\n",
       "     experience_level employment_type work_setting company_location  \\\n",
       "0           Mid-level       Full-time       Hybrid          Germany   \n",
       "1              Senior       Full-time    In-person    United States   \n",
       "2              Senior       Full-time    In-person    United States   \n",
       "3              Senior       Full-time    In-person    United States   \n",
       "4              Senior       Full-time    In-person    United States   \n",
       "...               ...             ...          ...              ...   \n",
       "9350           Senior       Full-time       Remote    United States   \n",
       "9351           Senior       Full-time       Remote    United States   \n",
       "9352        Mid-level       Full-time       Remote    United States   \n",
       "9353      Entry-level       Full-time       Remote    United States   \n",
       "9354      Entry-level        Contract       Remote    United States   \n",
       "\n",
       "     company_size  \n",
       "0               L  \n",
       "1               M  \n",
       "2               M  \n",
       "3               M  \n",
       "4               M  \n",
       "...           ...  \n",
       "9350            L  \n",
       "9351            L  \n",
       "9352            L  \n",
       "9353            S  \n",
       "9354            L  \n",
       "\n",
       "[9355 rows x 12 columns]"
      ]
     },
     "execution_count": 2,
     "metadata": {},
     "output_type": "execute_result"
    }
   ],
   "source": [
    "df = pd.read_csv('/kaggle/input/jobs-in-data/jobs_in_data.csv')\n",
    "df"
   ]
  },
  {
   "cell_type": "code",
   "execution_count": 3,
   "id": "de63622f",
   "metadata": {
    "execution": {
     "iopub.execute_input": "2024-03-13T15:16:59.728844Z",
     "iopub.status.busy": "2024-03-13T15:16:59.728532Z",
     "iopub.status.idle": "2024-03-13T15:16:59.755168Z",
     "shell.execute_reply": "2024-03-13T15:16:59.753935Z"
    },
    "papermill": {
     "duration": 0.036605,
     "end_time": "2024-03-13T15:16:59.757200",
     "exception": false,
     "start_time": "2024-03-13T15:16:59.720595",
     "status": "completed"
    },
    "tags": []
   },
   "outputs": [
    {
     "name": "stdout",
     "output_type": "stream",
     "text": [
      "<class 'pandas.core.frame.DataFrame'>\n",
      "RangeIndex: 9355 entries, 0 to 9354\n",
      "Data columns (total 12 columns):\n",
      " #   Column              Non-Null Count  Dtype \n",
      "---  ------              --------------  ----- \n",
      " 0   work_year           9355 non-null   int64 \n",
      " 1   job_title           9355 non-null   object\n",
      " 2   job_category        9355 non-null   object\n",
      " 3   salary_currency     9355 non-null   object\n",
      " 4   salary              9355 non-null   int64 \n",
      " 5   salary_in_usd       9355 non-null   int64 \n",
      " 6   employee_residence  9355 non-null   object\n",
      " 7   experience_level    9355 non-null   object\n",
      " 8   employment_type     9355 non-null   object\n",
      " 9   work_setting        9355 non-null   object\n",
      " 10  company_location    9355 non-null   object\n",
      " 11  company_size        9355 non-null   object\n",
      "dtypes: int64(3), object(9)\n",
      "memory usage: 877.2+ KB\n"
     ]
    }
   ],
   "source": [
    "df.info()"
   ]
  },
  {
   "cell_type": "code",
   "execution_count": 4,
   "id": "ce3cb966",
   "metadata": {
    "execution": {
     "iopub.execute_input": "2024-03-13T15:16:59.772972Z",
     "iopub.status.busy": "2024-03-13T15:16:59.772643Z",
     "iopub.status.idle": "2024-03-13T15:16:59.781846Z",
     "shell.execute_reply": "2024-03-13T15:16:59.780252Z"
    },
    "papermill": {
     "duration": 0.019952,
     "end_time": "2024-03-13T15:16:59.784320",
     "exception": false,
     "start_time": "2024-03-13T15:16:59.764368",
     "status": "completed"
    },
    "tags": []
   },
   "outputs": [
    {
     "data": {
      "text/plain": [
       "array(['Data Engineering', 'Data Architecture and Modeling',\n",
       "       'Data Science and Research', 'Machine Learning and AI',\n",
       "       'Data Analysis', 'Leadership and Management',\n",
       "       'BI and Visualization', 'Data Quality and Operations',\n",
       "       'Data Management and Strategy', 'Cloud and Database'], dtype=object)"
      ]
     },
     "execution_count": 4,
     "metadata": {},
     "output_type": "execute_result"
    }
   ],
   "source": [
    "df['job_category'].unique()"
   ]
  },
  {
   "cell_type": "code",
   "execution_count": 5,
   "id": "1a7f640a",
   "metadata": {
    "execution": {
     "iopub.execute_input": "2024-03-13T15:16:59.801210Z",
     "iopub.status.busy": "2024-03-13T15:16:59.800419Z",
     "iopub.status.idle": "2024-03-13T15:16:59.808874Z",
     "shell.execute_reply": "2024-03-13T15:16:59.807640Z"
    },
    "papermill": {
     "duration": 0.019076,
     "end_time": "2024-03-13T15:16:59.810985",
     "exception": false,
     "start_time": "2024-03-13T15:16:59.791909",
     "status": "completed"
    },
    "tags": []
   },
   "outputs": [
    {
     "name": "stdout",
     "output_type": "stream",
     "text": [
      "['Data Engineering' 'Data Architecture and Modeling'\n",
      " 'Data Science and Research' 'Machine Learning and AI' 'Data Analysis'\n",
      " 'Leadership and Management' 'BI and Visualization'\n",
      " 'Data Quality and Operations' 'Cloud and Database']\n"
     ]
    }
   ],
   "source": [
    "df['job_category'].replace({'Data Management and Strategy': 'Leadership and Management'}, inplace=True)\n",
    "print(df['job_category'].unique())"
   ]
  },
  {
   "cell_type": "code",
   "execution_count": 6,
   "id": "6a024a79",
   "metadata": {
    "execution": {
     "iopub.execute_input": "2024-03-13T15:16:59.827464Z",
     "iopub.status.busy": "2024-03-13T15:16:59.827064Z",
     "iopub.status.idle": "2024-03-13T15:16:59.846511Z",
     "shell.execute_reply": "2024-03-13T15:16:59.845413Z"
    },
    "papermill": {
     "duration": 0.029954,
     "end_time": "2024-03-13T15:16:59.848328",
     "exception": false,
     "start_time": "2024-03-13T15:16:59.818374",
     "status": "completed"
    },
    "tags": []
   },
   "outputs": [
    {
     "data": {
      "text/html": [
       "<div>\n",
       "<style scoped>\n",
       "    .dataframe tbody tr th:only-of-type {\n",
       "        vertical-align: middle;\n",
       "    }\n",
       "\n",
       "    .dataframe tbody tr th {\n",
       "        vertical-align: top;\n",
       "    }\n",
       "\n",
       "    .dataframe thead th {\n",
       "        text-align: right;\n",
       "    }\n",
       "</style>\n",
       "<table border=\"1\" class=\"dataframe\">\n",
       "  <thead>\n",
       "    <tr style=\"text-align: right;\">\n",
       "      <th></th>\n",
       "      <th>job_title</th>\n",
       "      <th>job_category</th>\n",
       "      <th>salary_in_usd</th>\n",
       "      <th>employee_residence</th>\n",
       "      <th>experience_level</th>\n",
       "      <th>employment_type</th>\n",
       "      <th>company_location</th>\n",
       "      <th>company_size</th>\n",
       "    </tr>\n",
       "  </thead>\n",
       "  <tbody>\n",
       "    <tr>\n",
       "      <th>0</th>\n",
       "      <td>Data DevOps Engineer</td>\n",
       "      <td>Data Engineering</td>\n",
       "      <td>95012</td>\n",
       "      <td>Germany</td>\n",
       "      <td>Mid-level</td>\n",
       "      <td>Full-time</td>\n",
       "      <td>Germany</td>\n",
       "      <td>L</td>\n",
       "    </tr>\n",
       "    <tr>\n",
       "      <th>1</th>\n",
       "      <td>Data Architect</td>\n",
       "      <td>Data Architecture and Modeling</td>\n",
       "      <td>186000</td>\n",
       "      <td>United States</td>\n",
       "      <td>Senior</td>\n",
       "      <td>Full-time</td>\n",
       "      <td>United States</td>\n",
       "      <td>M</td>\n",
       "    </tr>\n",
       "    <tr>\n",
       "      <th>2</th>\n",
       "      <td>Data Architect</td>\n",
       "      <td>Data Architecture and Modeling</td>\n",
       "      <td>81800</td>\n",
       "      <td>United States</td>\n",
       "      <td>Senior</td>\n",
       "      <td>Full-time</td>\n",
       "      <td>United States</td>\n",
       "      <td>M</td>\n",
       "    </tr>\n",
       "    <tr>\n",
       "      <th>3</th>\n",
       "      <td>Data Scientist</td>\n",
       "      <td>Data Science and Research</td>\n",
       "      <td>212000</td>\n",
       "      <td>United States</td>\n",
       "      <td>Senior</td>\n",
       "      <td>Full-time</td>\n",
       "      <td>United States</td>\n",
       "      <td>M</td>\n",
       "    </tr>\n",
       "    <tr>\n",
       "      <th>4</th>\n",
       "      <td>Data Scientist</td>\n",
       "      <td>Data Science and Research</td>\n",
       "      <td>93300</td>\n",
       "      <td>United States</td>\n",
       "      <td>Senior</td>\n",
       "      <td>Full-time</td>\n",
       "      <td>United States</td>\n",
       "      <td>M</td>\n",
       "    </tr>\n",
       "    <tr>\n",
       "      <th>...</th>\n",
       "      <td>...</td>\n",
       "      <td>...</td>\n",
       "      <td>...</td>\n",
       "      <td>...</td>\n",
       "      <td>...</td>\n",
       "      <td>...</td>\n",
       "      <td>...</td>\n",
       "      <td>...</td>\n",
       "    </tr>\n",
       "    <tr>\n",
       "      <th>9349</th>\n",
       "      <td>Data Engineer</td>\n",
       "      <td>Data Engineering</td>\n",
       "      <td>28369</td>\n",
       "      <td>Malta</td>\n",
       "      <td>Mid-level</td>\n",
       "      <td>Full-time</td>\n",
       "      <td>Malta</td>\n",
       "      <td>L</td>\n",
       "    </tr>\n",
       "    <tr>\n",
       "      <th>9350</th>\n",
       "      <td>Data Specialist</td>\n",
       "      <td>Leadership and Management</td>\n",
       "      <td>165000</td>\n",
       "      <td>United States</td>\n",
       "      <td>Senior</td>\n",
       "      <td>Full-time</td>\n",
       "      <td>United States</td>\n",
       "      <td>L</td>\n",
       "    </tr>\n",
       "    <tr>\n",
       "      <th>9351</th>\n",
       "      <td>Data Scientist</td>\n",
       "      <td>Data Science and Research</td>\n",
       "      <td>412000</td>\n",
       "      <td>United States</td>\n",
       "      <td>Senior</td>\n",
       "      <td>Full-time</td>\n",
       "      <td>United States</td>\n",
       "      <td>L</td>\n",
       "    </tr>\n",
       "    <tr>\n",
       "      <th>9352</th>\n",
       "      <td>Principal Data Scientist</td>\n",
       "      <td>Data Science and Research</td>\n",
       "      <td>151000</td>\n",
       "      <td>United States</td>\n",
       "      <td>Mid-level</td>\n",
       "      <td>Full-time</td>\n",
       "      <td>United States</td>\n",
       "      <td>L</td>\n",
       "    </tr>\n",
       "    <tr>\n",
       "      <th>9353</th>\n",
       "      <td>Data Scientist</td>\n",
       "      <td>Data Science and Research</td>\n",
       "      <td>105000</td>\n",
       "      <td>United States</td>\n",
       "      <td>Entry-level</td>\n",
       "      <td>Full-time</td>\n",
       "      <td>United States</td>\n",
       "      <td>S</td>\n",
       "    </tr>\n",
       "  </tbody>\n",
       "</table>\n",
       "<p>9310 rows × 8 columns</p>\n",
       "</div>"
      ],
      "text/plain": [
       "                     job_title                    job_category  salary_in_usd  \\\n",
       "0         Data DevOps Engineer                Data Engineering          95012   \n",
       "1               Data Architect  Data Architecture and Modeling         186000   \n",
       "2               Data Architect  Data Architecture and Modeling          81800   \n",
       "3               Data Scientist       Data Science and Research         212000   \n",
       "4               Data Scientist       Data Science and Research          93300   \n",
       "...                        ...                             ...            ...   \n",
       "9349             Data Engineer                Data Engineering          28369   \n",
       "9350           Data Specialist       Leadership and Management         165000   \n",
       "9351            Data Scientist       Data Science and Research         412000   \n",
       "9352  Principal Data Scientist       Data Science and Research         151000   \n",
       "9353            Data Scientist       Data Science and Research         105000   \n",
       "\n",
       "     employee_residence experience_level employment_type company_location  \\\n",
       "0               Germany        Mid-level       Full-time          Germany   \n",
       "1         United States           Senior       Full-time    United States   \n",
       "2         United States           Senior       Full-time    United States   \n",
       "3         United States           Senior       Full-time    United States   \n",
       "4         United States           Senior       Full-time    United States   \n",
       "...                 ...              ...             ...              ...   \n",
       "9349              Malta        Mid-level       Full-time            Malta   \n",
       "9350      United States           Senior       Full-time    United States   \n",
       "9351      United States           Senior       Full-time    United States   \n",
       "9352      United States        Mid-level       Full-time    United States   \n",
       "9353      United States      Entry-level       Full-time    United States   \n",
       "\n",
       "     company_size  \n",
       "0               L  \n",
       "1               M  \n",
       "2               M  \n",
       "3               M  \n",
       "4               M  \n",
       "...           ...  \n",
       "9349            L  \n",
       "9350            L  \n",
       "9351            L  \n",
       "9352            L  \n",
       "9353            S  \n",
       "\n",
       "[9310 rows x 8 columns]"
      ]
     },
     "execution_count": 6,
     "metadata": {},
     "output_type": "execute_result"
    }
   ],
   "source": [
    "df = df[['job_title' , 'job_category' , 'salary_in_usd' , 'employee_residence' , 'experience_level' , 'employment_type' , 'company_location' , 'company_size']]\n",
    "df = df[df['employment_type'] == 'Full-time']\n",
    "df"
   ]
  },
  {
   "cell_type": "code",
   "execution_count": 7,
   "id": "75b0b891",
   "metadata": {
    "execution": {
     "iopub.execute_input": "2024-03-13T15:16:59.864528Z",
     "iopub.status.busy": "2024-03-13T15:16:59.864183Z",
     "iopub.status.idle": "2024-03-13T15:16:59.870160Z",
     "shell.execute_reply": "2024-03-13T15:16:59.869548Z"
    },
    "papermill": {
     "duration": 0.016797,
     "end_time": "2024-03-13T15:16:59.872554",
     "exception": false,
     "start_time": "2024-03-13T15:16:59.855757",
     "status": "completed"
    },
    "tags": []
   },
   "outputs": [
    {
     "data": {
      "text/plain": [
       "array(['Germany', 'United States', 'United Kingdom', 'Canada', 'Spain',\n",
       "       'Ireland', 'South Africa', 'Poland', 'France', 'Netherlands',\n",
       "       'Lithuania', 'Portugal', 'Gibraltar', 'Australia', 'Colombia',\n",
       "       'Ukraine', 'Slovenia', 'Romania', 'Greece', 'India', 'Latvia',\n",
       "       'Mauritius', 'Russia', 'Italy', 'South Korea', 'Estonia',\n",
       "       'Czech Republic', 'Brazil', 'Qatar', 'Kenya', 'Denmark', 'Ghana',\n",
       "       'Sweden', 'Turkey', 'Switzerland', 'Andorra', 'Ecuador', 'Mexico',\n",
       "       'Israel', 'Nigeria', 'Saudi Arabia', 'Argentina', 'Japan',\n",
       "       'Central African Republic', 'Finland', 'Singapore', 'Croatia',\n",
       "       'Armenia', 'Bosnia and Herzegovina', 'Pakistan', 'Austria',\n",
       "       'Puerto Rico', 'American Samoa', 'Thailand', 'Philippines',\n",
       "       'Belgium', 'Egypt', 'Indonesia', 'United Arab Emirates',\n",
       "       'Malaysia', 'Honduras', 'Iraq', 'China', 'New Zealand', 'Moldova',\n",
       "       'Luxembourg', 'Malta'], dtype=object)"
      ]
     },
     "execution_count": 7,
     "metadata": {},
     "output_type": "execute_result"
    }
   ],
   "source": [
    "df['company_location'].unique()"
   ]
  },
  {
   "cell_type": "code",
   "execution_count": 8,
   "id": "f575ca04",
   "metadata": {
    "execution": {
     "iopub.execute_input": "2024-03-13T15:16:59.890536Z",
     "iopub.status.busy": "2024-03-13T15:16:59.890168Z",
     "iopub.status.idle": "2024-03-13T15:16:59.899690Z",
     "shell.execute_reply": "2024-03-13T15:16:59.898297Z"
    },
    "papermill": {
     "duration": 0.020468,
     "end_time": "2024-03-13T15:16:59.901936",
     "exception": false,
     "start_time": "2024-03-13T15:16:59.881468",
     "status": "completed"
    },
    "tags": []
   },
   "outputs": [
    {
     "data": {
      "text/plain": [
       "company_location\n",
       "United States     8109\n",
       "United Kingdom     449\n",
       "Canada             223\n",
       "Spain              113\n",
       "Germany             70\n",
       "                  ... \n",
       "American Samoa       1\n",
       "Mauritius            1\n",
       "Andorra              1\n",
       "Ecuador              1\n",
       "Malta                1\n",
       "Name: count, Length: 67, dtype: int64"
      ]
     },
     "execution_count": 8,
     "metadata": {},
     "output_type": "execute_result"
    }
   ],
   "source": [
    "df['company_location'].value_counts()"
   ]
  },
  {
   "cell_type": "code",
   "execution_count": 9,
   "id": "90df70e3",
   "metadata": {
    "execution": {
     "iopub.execute_input": "2024-03-13T15:16:59.919537Z",
     "iopub.status.busy": "2024-03-13T15:16:59.919163Z",
     "iopub.status.idle": "2024-03-13T15:16:59.925370Z",
     "shell.execute_reply": "2024-03-13T15:16:59.924287Z"
    },
    "papermill": {
     "duration": 0.017186,
     "end_time": "2024-03-13T15:16:59.927139",
     "exception": false,
     "start_time": "2024-03-13T15:16:59.909953",
     "status": "completed"
    },
    "tags": []
   },
   "outputs": [],
   "source": [
    "def shorten_category(categories, cutoff):\n",
    "    categorical_map = {}\n",
    "    for i in range(len(categories)):\n",
    "        if categories.values[i] >= cutoff:\n",
    "            categorical_map[categories.index[i]] = categories.index[i]\n",
    "        else:\n",
    "            categorical_map[categories.index[i]] = 'Other'\n",
    "    return categorical_map"
   ]
  },
  {
   "cell_type": "code",
   "execution_count": 10,
   "id": "151c7a97",
   "metadata": {
    "execution": {
     "iopub.execute_input": "2024-03-13T15:16:59.945280Z",
     "iopub.status.busy": "2024-03-13T15:16:59.944743Z",
     "iopub.status.idle": "2024-03-13T15:16:59.955259Z",
     "shell.execute_reply": "2024-03-13T15:16:59.953808Z"
    },
    "papermill": {
     "duration": 0.021811,
     "end_time": "2024-03-13T15:16:59.956984",
     "exception": false,
     "start_time": "2024-03-13T15:16:59.935173",
     "status": "completed"
    },
    "tags": []
   },
   "outputs": [
    {
     "data": {
      "text/plain": [
       "company_location\n",
       "United States     8109\n",
       "United Kingdom     449\n",
       "Other              346\n",
       "Canada             223\n",
       "Spain              113\n",
       "Germany             70\n",
       "Name: count, dtype: int64"
      ]
     },
     "execution_count": 10,
     "metadata": {},
     "output_type": "execute_result"
    }
   ],
   "source": [
    "\n",
    "country_map =shorten_category(df.company_location.value_counts() , 60)\n",
    "df['company_location'] = df['company_location'].map(country_map)\n",
    "df['company_location'].value_counts()"
   ]
  },
  {
   "cell_type": "code",
   "execution_count": 11,
   "id": "29c83561",
   "metadata": {
    "execution": {
     "iopub.execute_input": "2024-03-13T15:16:59.974591Z",
     "iopub.status.busy": "2024-03-13T15:16:59.974077Z",
     "iopub.status.idle": "2024-03-13T15:17:00.254384Z",
     "shell.execute_reply": "2024-03-13T15:17:00.253039Z"
    },
    "papermill": {
     "duration": 0.292008,
     "end_time": "2024-03-13T15:17:00.257040",
     "exception": false,
     "start_time": "2024-03-13T15:16:59.965032",
     "status": "completed"
    },
    "tags": []
   },
   "outputs": [
    {
     "data": {
      "image/png": "[encoded data removed]",
      "text/plain": [
       "<Figure size 640x480 with 1 Axes>"
      ]
     },
     "metadata": {},
     "output_type": "display_data"
    }
   ],
   "source": [
    "df.boxplot('salary_in_usd' , 'company_location')\n",
    "plt.title('Before Handling the Outliers')\n",
    "plt.xticks(rotation = 50)\n",
    "plt.show()"
   ]
  },
  {
   "cell_type": "code",
   "execution_count": 12,
   "id": "e38d1ae2",
   "metadata": {
    "execution": {
     "iopub.execute_input": "2024-03-13T15:17:00.276793Z",
     "iopub.status.busy": "2024-03-13T15:17:00.276407Z",
     "iopub.status.idle": "2024-03-13T15:17:00.283626Z",
     "shell.execute_reply": "2024-03-13T15:17:00.282629Z"
    },
    "papermill": {
     "duration": 0.019528,
     "end_time": "2024-03-13T15:17:00.285490",
     "exception": false,
     "start_time": "2024-03-13T15:17:00.265962",
     "status": "completed"
    },
    "tags": []
   },
   "outputs": [],
   "source": [
    "def find_outliers(df, column_name, location_value):\n",
    "    subset = df[df['company_location'] == location_value][column_name]\n",
    "    \n",
    "    Q1 = subset.quantile(0.25)\n",
    "    Q3 = subset.quantile(0.75)\n",
    "    IQR = Q3 - Q1\n",
    "    \n",
    "    outliers = df[(df['company_location'] == location_value) & ((df[column_name] < Q1 - 1.5 * IQR) | (df[column_name] > Q3 + 1.5 * IQR))]\n",
    "    \n",
    "    return outliers\n"
   ]
  },
  {
   "cell_type": "code",
   "execution_count": 13,
   "id": "dd154fef",
   "metadata": {
    "execution": {
     "iopub.execute_input": "2024-03-13T15:17:00.304809Z",
     "iopub.status.busy": "2024-03-13T15:17:00.304473Z",
     "iopub.status.idle": "2024-03-13T15:17:00.331335Z",
     "shell.execute_reply": "2024-03-13T15:17:00.329585Z"
    },
    "papermill": {
     "duration": 0.039436,
     "end_time": "2024-03-13T15:17:00.333866",
     "exception": false,
     "start_time": "2024-03-13T15:17:00.294430",
     "status": "completed"
    },
    "tags": []
   },
   "outputs": [],
   "source": [
    "outliers_us_salary = find_outliers(df, 'salary_in_usd', 'United States')\n",
    "df.drop(outliers_us_salary.index, inplace=True)\n",
    "outliers_us_salary = find_outliers(df, 'salary_in_usd', 'Other')\n",
    "df.drop(outliers_us_salary.index, inplace=True)\n",
    "outliers_us_salary = find_outliers(df, 'salary_in_usd', 'United Kingdom')\n",
    "df.drop(outliers_us_salary.index, inplace=True)"
   ]
  },
  {
   "cell_type": "code",
   "execution_count": 14,
   "id": "a9f294ab",
   "metadata": {
    "execution": {
     "iopub.execute_input": "2024-03-13T15:17:00.352230Z",
     "iopub.status.busy": "2024-03-13T15:17:00.351942Z",
     "iopub.status.idle": "2024-03-13T15:17:00.581393Z",
     "shell.execute_reply": "2024-03-13T15:17:00.580274Z"
    },
    "papermill": {
     "duration": 0.24074,
     "end_time": "2024-03-13T15:17:00.583174",
     "exception": false,
     "start_time": "2024-03-13T15:17:00.342434",
     "status": "completed"
    },
    "tags": []
   },
   "outputs": [
    {
     "data": {
      "image/png": "[encoded data removed]",
      "text/plain": [
       "<Figure size 640x480 with 1 Axes>"
      ]
     },
     "metadata": {},
     "output_type": "display_data"
    }
   ],
   "source": [
    "df.boxplot('salary_in_usd' , 'company_location')\n",
    "plt.title('After Handling the Outliers')\n",
    "plt.xticks(rotation = 50)\n",
    "plt.show()"
   ]
  },
  {
   "cell_type": "code",
   "execution_count": 15,
   "id": "ded6c79c",
   "metadata": {
    "execution": {
     "iopub.execute_input": "2024-03-13T15:17:00.602570Z",
     "iopub.status.busy": "2024-03-13T15:17:00.602212Z",
     "iopub.status.idle": "2024-03-13T15:17:00.613135Z",
     "shell.execute_reply": "2024-03-13T15:17:00.612270Z"
    },
    "papermill": {
     "duration": 0.022883,
     "end_time": "2024-03-13T15:17:00.615022",
     "exception": false,
     "start_time": "2024-03-13T15:17:00.592139",
     "status": "completed"
    },
    "tags": []
   },
   "outputs": [
    {
     "data": {
      "text/plain": [
       "array([ 40,  39,  66,  99,  42,  93,  33,   7,  11,  17,  24, 116, 114,\n",
       "       115,  62,  58,  56, 100,   2,  91,  75,  50,  57,  60,  21,  49,\n",
       "        90,  61,  82,  14,  47,  96,  68,  15,  44,  25,  45,  65,  23,\n",
       "         4,  46,  48,   1,   0,  64,  69,  26,  94,  59,  77,  20,  74,\n",
       "        81,  70,  31,  73,  85,  72,  78,  37,  13,  41, 111,  63,  43,\n",
       "       101,  97,   5,  84,   8,   3,  52,  36,  53,  95,  88, 112, 110,\n",
       "       108,  83, 120, 119, 102,  22,  54,  89, 104,  51,  80, 117,  98,\n",
       "        30,  55,  28, 107,   6,  71, 113,  12,   9, 118,  79,  19,  86,\n",
       "        16,  10,  29,  76,  38,  18,  32, 106, 103,  92,  67, 105,  35,\n",
       "        34,  27,  87, 109])"
      ]
     },
     "execution_count": 15,
     "metadata": {},
     "output_type": "execute_result"
    }
   ],
   "source": [
    "from sklearn.preprocessing import LabelEncoder\n",
    "le_education = LabelEncoder()\n",
    "df['job_title'] = le_education.fit_transform(df['job_title'])\n",
    "df[\"job_title\"].unique()"
   ]
  },
  {
   "cell_type": "code",
   "execution_count": 16,
   "id": "826304cc",
   "metadata": {
    "execution": {
     "iopub.execute_input": "2024-03-13T15:17:00.636142Z",
     "iopub.status.busy": "2024-03-13T15:17:00.635588Z",
     "iopub.status.idle": "2024-03-13T15:17:00.644527Z",
     "shell.execute_reply": "2024-03-13T15:17:00.643596Z"
    },
    "papermill": {
     "duration": 0.02211,
     "end_time": "2024-03-13T15:17:00.646791",
     "exception": false,
     "start_time": "2024-03-13T15:17:00.624681",
     "status": "completed"
    },
    "tags": []
   },
   "outputs": [
    {
     "data": {
      "text/plain": [
       "array([4, 3, 6, 8, 2, 7, 0, 5, 1])"
      ]
     },
     "execution_count": 16,
     "metadata": {},
     "output_type": "execute_result"
    }
   ],
   "source": [
    "le_education = LabelEncoder()\n",
    "df['job_category'] = le_education.fit_transform(df['job_category'])\n",
    "df[\"job_category\"].unique()"
   ]
  },
  {
   "cell_type": "code",
   "execution_count": 17,
   "id": "c33b0fd6",
   "metadata": {
    "execution": {
     "iopub.execute_input": "2024-03-13T15:17:00.667184Z",
     "iopub.status.busy": "2024-03-13T15:17:00.666818Z",
     "iopub.status.idle": "2024-03-13T15:17:00.676150Z",
     "shell.execute_reply": "2024-03-13T15:17:00.674829Z"
    },
    "papermill": {
     "duration": 0.02156,
     "end_time": "2024-03-13T15:17:00.677865",
     "exception": false,
     "start_time": "2024-03-13T15:17:00.656305",
     "status": "completed"
    },
    "tags": []
   },
   "outputs": [
    {
     "data": {
      "text/plain": [
       "array([25, 74, 73, 10, 64, 33, 62, 53, 47, 71, 40, 54,  3, 23, 70, 13, 34,\n",
       "       61, 56, 27, 30, 39, 44,  2, 15, 67, 63, 21, 69, 52,  8, 57, 37, 68,\n",
       "       26,  5, 66,  0, 19, 51, 45, 46, 49, 58,  1, 20, 75, 24, 11, 22,  4,\n",
       "       60, 65, 38, 16,  7, 50, 14, 12, 55,  6, 31, 72, 42, 35, 28, 17, 76,\n",
       "       32,  9, 36, 59, 48, 29, 18, 41, 43])"
      ]
     },
     "execution_count": 17,
     "metadata": {},
     "output_type": "execute_result"
    }
   ],
   "source": [
    "le_education = LabelEncoder()\n",
    "df['employee_residence'] = le_education.fit_transform(df['employee_residence'])\n",
    "df[\"employee_residence\"].unique()"
   ]
  },
  {
   "cell_type": "code",
   "execution_count": 18,
   "id": "70a4c1c0",
   "metadata": {
    "execution": {
     "iopub.execute_input": "2024-03-13T15:17:00.697986Z",
     "iopub.status.busy": "2024-03-13T15:17:00.697401Z",
     "iopub.status.idle": "2024-03-13T15:17:00.706647Z",
     "shell.execute_reply": "2024-03-13T15:17:00.705772Z"
    },
    "papermill": {
     "duration": 0.021076,
     "end_time": "2024-03-13T15:17:00.708376",
     "exception": false,
     "start_time": "2024-03-13T15:17:00.687300",
     "status": "completed"
    },
    "tags": []
   },
   "outputs": [
    {
     "data": {
      "text/plain": [
       "array([2, 3, 1, 0])"
      ]
     },
     "execution_count": 18,
     "metadata": {},
     "output_type": "execute_result"
    }
   ],
   "source": [
    "le_education = LabelEncoder()\n",
    "df['experience_level'] = le_education.fit_transform(df['experience_level'])\n",
    "df[\"experience_level\"].unique()"
   ]
  },
  {
   "cell_type": "code",
   "execution_count": 19,
   "id": "2751061a",
   "metadata": {
    "execution": {
     "iopub.execute_input": "2024-03-13T15:17:00.728271Z",
     "iopub.status.busy": "2024-03-13T15:17:00.727919Z",
     "iopub.status.idle": "2024-03-13T15:17:00.736735Z",
     "shell.execute_reply": "2024-03-13T15:17:00.735934Z"
    },
    "papermill": {
     "duration": 0.020876,
     "end_time": "2024-03-13T15:17:00.738516",
     "exception": false,
     "start_time": "2024-03-13T15:17:00.717640",
     "status": "completed"
    },
    "tags": []
   },
   "outputs": [
    {
     "data": {
      "text/plain": [
       "array([0])"
      ]
     },
     "execution_count": 19,
     "metadata": {},
     "output_type": "execute_result"
    }
   ],
   "source": [
    "le_education = LabelEncoder()\n",
    "df['employment_type'] = le_education.fit_transform(df['employment_type'])\n",
    "df[\"employment_type\"].unique()"
   ]
  },
  {
   "cell_type": "code",
   "execution_count": 20,
   "id": "3c098489",
   "metadata": {
    "execution": {
     "iopub.execute_input": "2024-03-13T15:17:00.758734Z",
     "iopub.status.busy": "2024-03-13T15:17:00.758157Z",
     "iopub.status.idle": "2024-03-13T15:17:00.766704Z",
     "shell.execute_reply": "2024-03-13T15:17:00.765827Z"
    },
    "papermill": {
     "duration": 0.020489,
     "end_time": "2024-03-13T15:17:00.768428",
     "exception": false,
     "start_time": "2024-03-13T15:17:00.747939",
     "status": "completed"
    },
    "tags": []
   },
   "outputs": [
    {
     "data": {
      "text/plain": [
       "array([1, 5, 4, 0, 3, 2])"
      ]
     },
     "execution_count": 20,
     "metadata": {},
     "output_type": "execute_result"
    }
   ],
   "source": [
    "le_education = LabelEncoder()\n",
    "df['company_location'] = le_education.fit_transform(df['company_location'])\n",
    "df[\"company_location\"].unique()"
   ]
  },
  {
   "cell_type": "code",
   "execution_count": 21,
   "id": "82190823",
   "metadata": {
    "execution": {
     "iopub.execute_input": "2024-03-13T15:17:00.788607Z",
     "iopub.status.busy": "2024-03-13T15:17:00.788253Z",
     "iopub.status.idle": "2024-03-13T15:17:00.797000Z",
     "shell.execute_reply": "2024-03-13T15:17:00.796222Z"
    },
    "papermill": {
     "duration": 0.02061,
     "end_time": "2024-03-13T15:17:00.798685",
     "exception": false,
     "start_time": "2024-03-13T15:17:00.778075",
     "status": "completed"
    },
    "tags": []
   },
   "outputs": [
    {
     "data": {
      "text/plain": [
       "array([0, 1, 2])"
      ]
     },
     "execution_count": 21,
     "metadata": {},
     "output_type": "execute_result"
    }
   ],
   "source": [
    "le_education = LabelEncoder()\n",
    "df['company_size'] = le_education.fit_transform(df['company_size'])\n",
    "df[\"company_size\"].unique()"
   ]
  },
  {
   "cell_type": "code",
   "execution_count": 22,
   "id": "6706a116",
   "metadata": {
    "execution": {
     "iopub.execute_input": "2024-03-13T15:17:00.819151Z",
     "iopub.status.busy": "2024-03-13T15:17:00.818808Z",
     "iopub.status.idle": "2024-03-13T15:17:00.824711Z",
     "shell.execute_reply": "2024-03-13T15:17:00.823550Z"
    },
    "papermill": {
     "duration": 0.018888,
     "end_time": "2024-03-13T15:17:00.827015",
     "exception": false,
     "start_time": "2024-03-13T15:17:00.808127",
     "status": "completed"
    },
    "tags": []
   },
   "outputs": [],
   "source": [
    "X = df.drop(['salary_in_usd' , 'job_title'] , axis = 1)\n",
    "Y = df['salary_in_usd']"
   ]
  },
  {
   "cell_type": "code",
   "execution_count": 23,
   "id": "db97588b",
   "metadata": {
    "execution": {
     "iopub.execute_input": "2024-03-13T15:17:00.848983Z",
     "iopub.status.busy": "2024-03-13T15:17:00.848636Z",
     "iopub.status.idle": "2024-03-13T15:17:00.883784Z",
     "shell.execute_reply": "2024-03-13T15:17:00.882648Z"
    },
    "papermill": {
     "duration": 0.048628,
     "end_time": "2024-03-13T15:17:00.885750",
     "exception": false,
     "start_time": "2024-03-13T15:17:00.837122",
     "status": "completed"
    },
    "tags": []
   },
   "outputs": [
    {
     "data": {
      "text/html": [
       "<style>#sk-container-id-1 {color: black;background-color: white;}#sk-container-id-1 pre{padding: 0;}#sk-container-id-1 div.sk-toggleable {background-color: white;}#sk-container-id-1 label.sk-toggleable__label {cursor: pointer;display: block;width: 100%;margin-bottom: 0;padding: 0.3em;box-sizing: border-box;text-align: center;}#sk-container-id-1 label.sk-toggleable__label-arrow:before {content: \"▸\";float: left;margin-right: 0.25em;color: #696969;}#sk-container-id-1 label.sk-toggleable__label-arrow:hover:before {color: black;}#sk-container-id-1 div.sk-estimator:hover label.sk-toggleable__label-arrow:before {color: black;}#sk-container-id-1 div.sk-toggleable__content {max-height: 0;max-width: 0;overflow: hidden;text-align: left;background-color: #f0f8ff;}#sk-container-id-1 div.sk-toggleable__content pre {margin: 0.2em;color: black;border-radius: 0.25em;background-color: #f0f8ff;}#sk-container-id-1 input.sk-toggleable__control:checked~div.sk-toggleable__content {max-height: 200px;max-width: 100%;overflow: auto;}#sk-container-id-1 input.sk-toggleable__control:checked~label.sk-toggleable__label-arrow:before {content: \"▾\";}#sk-container-id-1 div.sk-estimator input.sk-toggleable__control:checked~label.sk-toggleable__label {background-color: #d4ebff;}#sk-container-id-1 div.sk-label input.sk-toggleable__control:checked~label.sk-toggleable__label {background-color: #d4ebff;}#sk-container-id-1 input.sk-hidden--visually {border: 0;clip: rect(1px 1px 1px 1px);clip: rect(1px, 1px, 1px, 1px);height: 1px;margin: -1px;overflow: hidden;padding: 0;position: absolute;width: 1px;}#sk-container-id-1 div.sk-estimator {font-family: monospace;background-color: #f0f8ff;border: 1px dotted black;border-radius: 0.25em;box-sizing: border-box;margin-bottom: 0.5em;}#sk-container-id-1 div.sk-estimator:hover {background-color: #d4ebff;}#sk-container-id-1 div.sk-parallel-item::after {content: \"\";width: 100%;border-bottom: 1px solid gray;flex-grow: 1;}#sk-container-id-1 div.sk-label:hover label.sk-toggleable__label {background-color: #d4ebff;}#sk-container-id-1 div.sk-serial::before {content: \"\";position: absolute;border-left: 1px solid gray;box-sizing: border-box;top: 0;bottom: 0;left: 50%;z-index: 0;}#sk-container-id-1 div.sk-serial {display: flex;flex-direction: column;align-items: center;background-color: white;padding-right: 0.2em;padding-left: 0.2em;position: relative;}#sk-container-id-1 div.sk-item {position: relative;z-index: 1;}#sk-container-id-1 div.sk-parallel {display: flex;align-items: stretch;justify-content: center;background-color: white;position: relative;}#sk-container-id-1 div.sk-item::before, #sk-container-id-1 div.sk-parallel-item::before {content: \"\";position: absolute;border-left: 1px solid gray;box-sizing: border-box;top: 0;bottom: 0;left: 50%;z-index: -1;}#sk-container-id-1 div.sk-parallel-item {display: flex;flex-direction: column;z-index: 1;position: relative;background-color: white;}#sk-container-id-1 div.sk-parallel-item:first-child::after {align-self: flex-end;width: 50%;}#sk-container-id-1 div.sk-parallel-item:last-child::after {align-self: flex-start;width: 50%;}#sk-container-id-1 div.sk-parallel-item:only-child::after {width: 0;}#sk-container-id-1 div.sk-dashed-wrapped {border: 1px dashed gray;margin: 0 0.4em 0.5em 0.4em;box-sizing: border-box;padding-bottom: 0.4em;background-color: white;}#sk-container-id-1 div.sk-label label {font-family: monospace;font-weight: bold;display: inline-block;line-height: 1.2em;}#sk-container-id-1 div.sk-label-container {text-align: center;}#sk-container-id-1 div.sk-container {/* jupyter's `normalize.less` sets `[hidden] { display: none; }` but bootstrap.min.css set `[hidden] { display: none !important; }` so we also need the `!important` here to be able to override the default hidden behavior on the sphinx rendered scikit-learn.org. See: https://github.com/scikit-learn/scikit-learn/issues/21755 */display: inline-block !important;position: relative;}#sk-container-id-1 div.sk-text-repr-fallback {display: none;}</style><div id=\"sk-container-id-1\" class=\"sk-top-container\"><div class=\"sk-text-repr-fallback\"><pre>LinearRegression()</pre><b>In a Jupyter environment, please rerun this cell to show the HTML representation or trust the notebook. <br />On GitHub, the HTML representation is unable to render, please try loading this page with nbviewer.org.</b></div><div class=\"sk-container\" hidden><div class=\"sk-item\"><div class=\"sk-estimator sk-toggleable\"><input class=\"sk-toggleable__control sk-hidden--visually\" id=\"sk-estimator-id-1\" type=\"checkbox\" checked><label for=\"sk-estimator-id-1\" class=\"sk-toggleable__label sk-toggleable__label-arrow\">LinearRegression</label><div class=\"sk-toggleable__content\"><pre>LinearRegression()</pre></div></div></div></div></div>"
      ],
      "text/plain": [
       "LinearRegression()"
      ]
     },
     "execution_count": 23,
     "metadata": {},
     "output_type": "execute_result"
    }
   ],
   "source": [
    "linear_model = LinearRegression()\n",
    "linear_model.fit(X,Y.values)"
   ]
  },
  {
   "cell_type": "code",
   "execution_count": 24,
   "id": "9521958f",
   "metadata": {
    "execution": {
     "iopub.execute_input": "2024-03-13T15:17:00.908017Z",
     "iopub.status.busy": "2024-03-13T15:17:00.906808Z",
     "iopub.status.idle": "2024-03-13T15:17:00.918197Z",
     "shell.execute_reply": "2024-03-13T15:17:00.917431Z"
    },
    "papermill": {
     "duration": 0.024677,
     "end_time": "2024-03-13T15:17:00.920481",
     "exception": false,
     "start_time": "2024-03-13T15:17:00.895804",
     "status": "completed"
    },
    "tags": []
   },
   "outputs": [
    {
     "name": "stdout",
     "output_type": "stream",
     "text": [
      "$50,896.92\n"
     ]
    }
   ],
   "source": [
    "from sklearn.metrics import mean_squared_error, mean_absolute_error\n",
    "y_pred = linear_model.predict(X)\n",
    "error = np.sqrt(mean_squared_error(Y, y_pred))\n",
    "print(\"${:,.02f}\".format(error))"
   ]
  },
  {
   "cell_type": "code",
   "execution_count": 25,
   "id": "d778f085",
   "metadata": {
    "execution": {
     "iopub.execute_input": "2024-03-13T15:17:00.948664Z",
     "iopub.status.busy": "2024-03-13T15:17:00.948021Z",
     "iopub.status.idle": "2024-03-13T15:17:00.967346Z",
     "shell.execute_reply": "2024-03-13T15:17:00.966553Z"
    },
    "papermill": {
     "duration": 0.036196,
     "end_time": "2024-03-13T15:17:00.969820",
     "exception": false,
     "start_time": "2024-03-13T15:17:00.933624",
     "status": "completed"
    },
    "tags": []
   },
   "outputs": [
    {
     "data": {
      "text/html": [
       "<style>#sk-container-id-2 {color: black;background-color: white;}#sk-container-id-2 pre{padding: 0;}#sk-container-id-2 div.sk-toggleable {background-color: white;}#sk-container-id-2 label.sk-toggleable__label {cursor: pointer;display: block;width: 100%;margin-bottom: 0;padding: 0.3em;box-sizing: border-box;text-align: center;}#sk-container-id-2 label.sk-toggleable__label-arrow:before {content: \"▸\";float: left;margin-right: 0.25em;color: #696969;}#sk-container-id-2 label.sk-toggleable__label-arrow:hover:before {color: black;}#sk-container-id-2 div.sk-estimator:hover label.sk-toggleable__label-arrow:before {color: black;}#sk-container-id-2 div.sk-toggleable__content {max-height: 0;max-width: 0;overflow: hidden;text-align: left;background-color: #f0f8ff;}#sk-container-id-2 div.sk-toggleable__content pre {margin: 0.2em;color: black;border-radius: 0.25em;background-color: #f0f8ff;}#sk-container-id-2 input.sk-toggleable__control:checked~div.sk-toggleable__content {max-height: 200px;max-width: 100%;overflow: auto;}#sk-container-id-2 input.sk-toggleable__control:checked~label.sk-toggleable__label-arrow:before {content: \"▾\";}#sk-container-id-2 div.sk-estimator input.sk-toggleable__control:checked~label.sk-toggleable__label {background-color: #d4ebff;}#sk-container-id-2 div.sk-label input.sk-toggleable__control:checked~label.sk-toggleable__label {background-color: #d4ebff;}#sk-container-id-2 input.sk-hidden--visually {border: 0;clip: rect(1px 1px 1px 1px);clip: rect(1px, 1px, 1px, 1px);height: 1px;margin: -1px;overflow: hidden;padding: 0;position: absolute;width: 1px;}#sk-container-id-2 div.sk-estimator {font-family: monospace;background-color: #f0f8ff;border: 1px dotted black;border-radius: 0.25em;box-sizing: border-box;margin-bottom: 0.5em;}#sk-container-id-2 div.sk-estimator:hover {background-color: #d4ebff;}#sk-container-id-2 div.sk-parallel-item::after {content: \"\";width: 100%;border-bottom: 1px solid gray;flex-grow: 1;}#sk-container-id-2 div.sk-label:hover label.sk-toggleable__label {background-color: #d4ebff;}#sk-container-id-2 div.sk-serial::before {content: \"\";position: absolute;border-left: 1px solid gray;box-sizing: border-box;top: 0;bottom: 0;left: 50%;z-index: 0;}#sk-container-id-2 div.sk-serial {display: flex;flex-direction: column;align-items: center;background-color: white;padding-right: 0.2em;padding-left: 0.2em;position: relative;}#sk-container-id-2 div.sk-item {position: relative;z-index: 1;}#sk-container-id-2 div.sk-parallel {display: flex;align-items: stretch;justify-content: center;background-color: white;position: relative;}#sk-container-id-2 div.sk-item::before, #sk-container-id-2 div.sk-parallel-item::before {content: \"\";position: absolute;border-left: 1px solid gray;box-sizing: border-box;top: 0;bottom: 0;left: 50%;z-index: -1;}#sk-container-id-2 div.sk-parallel-item {display: flex;flex-direction: column;z-index: 1;position: relative;background-color: white;}#sk-container-id-2 div.sk-parallel-item:first-child::after {align-self: flex-end;width: 50%;}#sk-container-id-2 div.sk-parallel-item:last-child::after {align-self: flex-start;width: 50%;}#sk-container-id-2 div.sk-parallel-item:only-child::after {width: 0;}#sk-container-id-2 div.sk-dashed-wrapped {border: 1px dashed gray;margin: 0 0.4em 0.5em 0.4em;box-sizing: border-box;padding-bottom: 0.4em;background-color: white;}#sk-container-id-2 div.sk-label label {font-family: monospace;font-weight: bold;display: inline-block;line-height: 1.2em;}#sk-container-id-2 div.sk-label-container {text-align: center;}#sk-container-id-2 div.sk-container {/* jupyter's `normalize.less` sets `[hidden] { display: none; }` but bootstrap.min.css set `[hidden] { display: none !important; }` so we also need the `!important` here to be able to override the default hidden behavior on the sphinx rendered scikit-learn.org. See: https://github.com/scikit-learn/scikit-learn/issues/21755 */display: inline-block !important;position: relative;}#sk-container-id-2 div.sk-text-repr-fallback {display: none;}</style><div id=\"sk-container-id-2\" class=\"sk-top-container\"><div class=\"sk-text-repr-fallback\"><pre>DecisionTreeRegressor(random_state=0)</pre><b>In a Jupyter environment, please rerun this cell to show the HTML representation or trust the notebook. <br />On GitHub, the HTML representation is unable to render, please try loading this page with nbviewer.org.</b></div><div class=\"sk-container\" hidden><div class=\"sk-item\"><div class=\"sk-estimator sk-toggleable\"><input class=\"sk-toggleable__control sk-hidden--visually\" id=\"sk-estimator-id-2\" type=\"checkbox\" checked><label for=\"sk-estimator-id-2\" class=\"sk-toggleable__label sk-toggleable__label-arrow\">DecisionTreeRegressor</label><div class=\"sk-toggleable__content\"><pre>DecisionTreeRegressor(random_state=0)</pre></div></div></div></div></div>"
      ],
      "text/plain": [
       "DecisionTreeRegressor(random_state=0)"
      ]
     },
     "execution_count": 25,
     "metadata": {},
     "output_type": "execute_result"
    }
   ],
   "source": [
    "from sklearn.tree import DecisionTreeRegressor\n",
    "dec_tree_reg = DecisionTreeRegressor(random_state=0)\n",
    "dec_tree_reg.fit(X, Y.values)"
   ]
  },
  {
   "cell_type": "code",
   "execution_count": 26,
   "id": "83497dcb",
   "metadata": {
    "execution": {
     "iopub.execute_input": "2024-03-13T15:17:01.013074Z",
     "iopub.status.busy": "2024-03-13T15:17:01.012269Z",
     "iopub.status.idle": "2024-03-13T15:17:01.025176Z",
     "shell.execute_reply": "2024-03-13T15:17:01.024274Z"
    },
    "papermill": {
     "duration": 0.043559,
     "end_time": "2024-03-13T15:17:01.027178",
     "exception": false,
     "start_time": "2024-03-13T15:17:00.983619",
     "status": "completed"
    },
    "tags": []
   },
   "outputs": [
    {
     "name": "stdout",
     "output_type": "stream",
     "text": [
      "$44,755.94\n"
     ]
    }
   ],
   "source": [
    "y_pred = dec_tree_reg.predict(X)\n",
    "y_pred = dec_tree_reg.predict(X)\n",
    "error = np.sqrt(mean_squared_error(Y, y_pred))\n",
    "print(\"${:,.02f}\".format(error))"
   ]
  },
  {
   "cell_type": "code",
   "execution_count": 27,
   "id": "b4f2e12b",
   "metadata": {
    "execution": {
     "iopub.execute_input": "2024-03-13T15:17:01.054465Z",
     "iopub.status.busy": "2024-03-13T15:17:01.053957Z",
     "iopub.status.idle": "2024-03-13T15:17:01.067947Z",
     "shell.execute_reply": "2024-03-13T15:17:01.067026Z"
    },
    "papermill": {
     "duration": 0.02904,
     "end_time": "2024-03-13T15:17:01.070559",
     "exception": false,
     "start_time": "2024-03-13T15:17:01.041519",
     "status": "completed"
    },
    "tags": []
   },
   "outputs": [
    {
     "data": {
      "text/html": [
       "<div>\n",
       "<style scoped>\n",
       "    .dataframe tbody tr th:only-of-type {\n",
       "        vertical-align: middle;\n",
       "    }\n",
       "\n",
       "    .dataframe tbody tr th {\n",
       "        vertical-align: top;\n",
       "    }\n",
       "\n",
       "    .dataframe thead th {\n",
       "        text-align: right;\n",
       "    }\n",
       "</style>\n",
       "<table border=\"1\" class=\"dataframe\">\n",
       "  <thead>\n",
       "    <tr style=\"text-align: right;\">\n",
       "      <th></th>\n",
       "      <th>job_category</th>\n",
       "      <th>employee_residence</th>\n",
       "      <th>experience_level</th>\n",
       "      <th>employment_type</th>\n",
       "      <th>company_location</th>\n",
       "      <th>company_size</th>\n",
       "    </tr>\n",
       "  </thead>\n",
       "  <tbody>\n",
       "    <tr>\n",
       "      <th>0</th>\n",
       "      <td>4</td>\n",
       "      <td>25</td>\n",
       "      <td>2</td>\n",
       "      <td>0</td>\n",
       "      <td>1</td>\n",
       "      <td>0</td>\n",
       "    </tr>\n",
       "    <tr>\n",
       "      <th>1</th>\n",
       "      <td>3</td>\n",
       "      <td>74</td>\n",
       "      <td>3</td>\n",
       "      <td>0</td>\n",
       "      <td>5</td>\n",
       "      <td>1</td>\n",
       "    </tr>\n",
       "    <tr>\n",
       "      <th>2</th>\n",
       "      <td>3</td>\n",
       "      <td>74</td>\n",
       "      <td>3</td>\n",
       "      <td>0</td>\n",
       "      <td>5</td>\n",
       "      <td>1</td>\n",
       "    </tr>\n",
       "    <tr>\n",
       "      <th>3</th>\n",
       "      <td>6</td>\n",
       "      <td>74</td>\n",
       "      <td>3</td>\n",
       "      <td>0</td>\n",
       "      <td>5</td>\n",
       "      <td>1</td>\n",
       "    </tr>\n",
       "    <tr>\n",
       "      <th>4</th>\n",
       "      <td>6</td>\n",
       "      <td>74</td>\n",
       "      <td>3</td>\n",
       "      <td>0</td>\n",
       "      <td>5</td>\n",
       "      <td>1</td>\n",
       "    </tr>\n",
       "    <tr>\n",
       "      <th>...</th>\n",
       "      <td>...</td>\n",
       "      <td>...</td>\n",
       "      <td>...</td>\n",
       "      <td>...</td>\n",
       "      <td>...</td>\n",
       "      <td>...</td>\n",
       "    </tr>\n",
       "    <tr>\n",
       "      <th>9347</th>\n",
       "      <td>6</td>\n",
       "      <td>60</td>\n",
       "      <td>2</td>\n",
       "      <td>0</td>\n",
       "      <td>2</td>\n",
       "      <td>1</td>\n",
       "    </tr>\n",
       "    <tr>\n",
       "      <th>9349</th>\n",
       "      <td>4</td>\n",
       "      <td>43</td>\n",
       "      <td>2</td>\n",
       "      <td>0</td>\n",
       "      <td>2</td>\n",
       "      <td>0</td>\n",
       "    </tr>\n",
       "    <tr>\n",
       "      <th>9350</th>\n",
       "      <td>7</td>\n",
       "      <td>74</td>\n",
       "      <td>3</td>\n",
       "      <td>0</td>\n",
       "      <td>5</td>\n",
       "      <td>0</td>\n",
       "    </tr>\n",
       "    <tr>\n",
       "      <th>9352</th>\n",
       "      <td>6</td>\n",
       "      <td>74</td>\n",
       "      <td>2</td>\n",
       "      <td>0</td>\n",
       "      <td>5</td>\n",
       "      <td>0</td>\n",
       "    </tr>\n",
       "    <tr>\n",
       "      <th>9353</th>\n",
       "      <td>6</td>\n",
       "      <td>74</td>\n",
       "      <td>0</td>\n",
       "      <td>0</td>\n",
       "      <td>5</td>\n",
       "      <td>2</td>\n",
       "    </tr>\n",
       "  </tbody>\n",
       "</table>\n",
       "<p>9094 rows × 6 columns</p>\n",
       "</div>"
      ],
      "text/plain": [
       "      job_category  employee_residence  experience_level  employment_type  \\\n",
       "0                4                  25                 2                0   \n",
       "1                3                  74                 3                0   \n",
       "2                3                  74                 3                0   \n",
       "3                6                  74                 3                0   \n",
       "4                6                  74                 3                0   \n",
       "...            ...                 ...               ...              ...   \n",
       "9347             6                  60                 2                0   \n",
       "9349             4                  43                 2                0   \n",
       "9350             7                  74                 3                0   \n",
       "9352             6                  74                 2                0   \n",
       "9353             6                  74                 0                0   \n",
       "\n",
       "      company_location  company_size  \n",
       "0                    1             0  \n",
       "1                    5             1  \n",
       "2                    5             1  \n",
       "3                    5             1  \n",
       "4                    5             1  \n",
       "...                ...           ...  \n",
       "9347                 2             1  \n",
       "9349                 2             0  \n",
       "9350                 5             0  \n",
       "9352                 5             0  \n",
       "9353                 5             2  \n",
       "\n",
       "[9094 rows x 6 columns]"
      ]
     },
     "execution_count": 27,
     "metadata": {},
     "output_type": "execute_result"
    }
   ],
   "source": [
    "X"
   ]
  },
  {
   "cell_type": "code",
   "execution_count": 28,
   "id": "3c4f3c4e",
   "metadata": {
    "execution": {
     "iopub.execute_input": "2024-03-13T15:17:01.096817Z",
     "iopub.status.busy": "2024-03-13T15:17:01.096440Z",
     "iopub.status.idle": "2024-03-13T15:17:01.101372Z",
     "shell.execute_reply": "2024-03-13T15:17:01.100259Z"
    },
    "papermill": {
     "duration": 0.018939,
     "end_time": "2024-03-13T15:17:01.103162",
     "exception": false,
     "start_time": "2024-03-13T15:17:01.084223",
     "status": "completed"
    },
    "tags": []
   },
   "outputs": [],
   "source": [
    "X = np.array(['Data Engineering', 'Germany', 'Mid-level', 'Full-time', 'United States', 'M'])\n"
   ]
  },
  {
   "cell_type": "code",
   "execution_count": 29,
   "id": "ef8afada",
   "metadata": {
    "execution": {
     "iopub.execute_input": "2024-03-13T15:17:01.127331Z",
     "iopub.status.busy": "2024-03-13T15:17:01.126169Z",
     "iopub.status.idle": "2024-03-13T15:17:01.133843Z",
     "shell.execute_reply": "2024-03-13T15:17:01.133182Z"
    },
    "papermill": {
     "duration": 0.021333,
     "end_time": "2024-03-13T15:17:01.135538",
     "exception": false,
     "start_time": "2024-03-13T15:17:01.114205",
     "status": "completed"
    },
    "tags": []
   },
   "outputs": [
    {
     "data": {
      "text/plain": [
       "array([0., 2., 4., 1., 5., 3.])"
      ]
     },
     "execution_count": 29,
     "metadata": {},
     "output_type": "execute_result"
    }
   ],
   "source": [
    "le_education = LabelEncoder()\n",
    "all_unique_values = np.unique(X)  \n",
    "le_education.fit(all_unique_values)\n",
    "\n",
    "X = le_education.transform(X)\n",
    "X = X.astype(float)\n",
    "X\n"
   ]
  },
  {
   "cell_type": "code",
   "execution_count": 30,
   "id": "79f3e56f",
   "metadata": {
    "execution": {
     "iopub.execute_input": "2024-03-13T15:17:01.165123Z",
     "iopub.status.busy": "2024-03-13T15:17:01.164763Z",
     "iopub.status.idle": "2024-03-13T15:17:01.170993Z",
     "shell.execute_reply": "2024-03-13T15:17:01.170303Z"
    },
    "papermill": {
     "duration": 0.023199,
     "end_time": "2024-03-13T15:17:01.172565",
     "exception": false,
     "start_time": "2024-03-13T15:17:01.149366",
     "status": "completed"
    },
    "tags": []
   },
   "outputs": [
    {
     "data": {
      "text/plain": [
       "array([80000.])"
      ]
     },
     "execution_count": 30,
     "metadata": {},
     "output_type": "execute_result"
    }
   ],
   "source": [
    "y_pred = dec_tree_reg.predict(X.reshape(1, -1))\n",
    "y_pred"
   ]
  },
  {
   "cell_type": "code",
   "execution_count": 31,
   "id": "915a1ce6",
   "metadata": {
    "execution": {
     "iopub.execute_input": "2024-03-13T15:17:01.196438Z",
     "iopub.status.busy": "2024-03-13T15:17:01.195697Z",
     "iopub.status.idle": "2024-03-13T15:17:01.201017Z",
     "shell.execute_reply": "2024-03-13T15:17:01.200194Z"
    },
    "papermill": {
     "duration": 0.01902,
     "end_time": "2024-03-13T15:17:01.202688",
     "exception": false,
     "start_time": "2024-03-13T15:17:01.183668",
     "status": "completed"
    },
    "tags": []
   },
   "outputs": [],
   "source": [
    "import pickle\n",
    "data = {'model' : dec_tree_reg, 'le_education' : le_education}\n",
    "with open('saved_steps.pkl' , 'wb') as file:\n",
    "    pickle.dump(data, file)"
   ]
  },
  {
   "cell_type": "code",
   "execution_count": 32,
   "id": "9400691a",
   "metadata": {
    "execution": {
     "iopub.execute_input": "2024-03-13T15:17:01.226454Z",
     "iopub.status.busy": "2024-03-13T15:17:01.225729Z",
     "iopub.status.idle": "2024-03-13T15:17:01.231207Z",
     "shell.execute_reply": "2024-03-13T15:17:01.230395Z"
    },
    "papermill": {
     "duration": 0.019495,
     "end_time": "2024-03-13T15:17:01.233009",
     "exception": false,
     "start_time": "2024-03-13T15:17:01.213514",
     "status": "completed"
    },
    "tags": []
   },
   "outputs": [],
   "source": [
    "with open('saved_steps.pkl', 'rb') as file:\n",
    "    data = pickle.load(file)\n",
    "\n",
    "regressor_loaded = data[\"model\"]\n",
    "le_education = data[\"le_education\"]"
   ]
  },
  {
   "cell_type": "code",
   "execution_count": 33,
   "id": "e971db59",
   "metadata": {
    "execution": {
     "iopub.execute_input": "2024-03-13T15:17:01.256711Z",
     "iopub.status.busy": "2024-03-13T15:17:01.256008Z",
     "iopub.status.idle": "2024-03-13T15:17:01.262610Z",
     "shell.execute_reply": "2024-03-13T15:17:01.261843Z"
    },
    "papermill": {
     "duration": 0.020479,
     "end_time": "2024-03-13T15:17:01.264292",
     "exception": false,
     "start_time": "2024-03-13T15:17:01.243813",
     "status": "completed"
    },
    "tags": []
   },
   "outputs": [
    {
     "data": {
      "text/plain": [
       "array([80000.])"
      ]
     },
     "execution_count": 33,
     "metadata": {},
     "output_type": "execute_result"
    }
   ],
   "source": [
    "y_pred = regressor_loaded.predict(X.reshape(1, -1))\n",
    "y_pred"
   ]
  }
 ],
 "metadata": {
  "kaggle": {
   "accelerator": "none",
   "dataSources": [
    {
     "datasetId": 4213326,
     "sourceId": 7279972,
     "sourceType": "datasetVersion"
    }
   ],
   "dockerImageVersionId": 30664,
   "isGpuEnabled": false,
   "isInternetEnabled": true,
   "language": "python",
   "sourceType": "notebook"
  },
  "kernelspec": {
   "display_name": "Python 3",
   "language": "python",
   "name": "python3"
  },
  "language_info": {
   "codemirror_mode": {
    "name": "ipython",
    "version": 3
   },
   "file_extension": ".py",
   "mimetype": "text/x-python",
   "name": "python",
   "nbconvert_exporter": "python",
   "pygments_lexer": "ipython3",
   "version": "3.10.13"
  },
  "papermill": {
   "default_parameters": {},
   "duration": 7.664416,
   "end_time": "2024-03-13T15:17:01.897674",
   "environment_variables": {},
   "exception": null,
   "input_path": "__notebook__.ipynb",
   "output_path": "__notebook__.ipynb",
   "parameters": {},
   "start_time": "2024-03-13T15:16:54.233258",
   "version": "2.5.0"
  }
 },
 "nbformat": 4,
 "nbformat_minor": 5
}
